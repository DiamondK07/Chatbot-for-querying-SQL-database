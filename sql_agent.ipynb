{
 "cells": [
  {
   "cell_type": "code",
   "execution_count": 2,
   "metadata": {
    "colab": {
     "base_uri": "https://localhost:8080/"
    },
    "id": "XZm6fC_7P366",
    "outputId": "7da302bf-2b9c-4682-b343-9fbb8408bb80"
   },
   "outputs": [
    {
     "name": "stdout",
     "output_type": "stream",
     "text": [
      "(1, 'For Those About To Rock We Salute You', 1)\n",
      "(2, 'Balls to the Wall', 2)\n",
      "(3, 'Restless and Wild', 2)\n"
     ]
    }
   ],
   "source": [
    "from sqlalchemy import create_engine, text\n",
    "\n",
    "dbpath = 'Chinook_Sqlite.sqlite'\n",
    "connection_string = f\"sqlite:///Chinook_Sqlite.sqlite\"\n",
    "\n",
    "engine = create_engine(connection_string)\n",
    "\n",
    "with engine.connect() as connection:\n",
    "    result = connection.execute(text(\"select * from album limit 3\"))\n",
    "    for row in result:\n",
    "        print(row)"
   ]
  },
  {
   "cell_type": "code",
   "execution_count": 3,
   "metadata": {
    "id": "IuLV4gB3ZmDH"
   },
   "outputs": [],
   "source": [
    "table_details = {\n",
    "    \"customer\": \"stores customer’s data.\",\n",
    "    \"employee\": \"stores all employee information as well as the organization structure such as who reports to whom.\",\n",
    "    \"genre\": \"stores a list of media genres.\",\n",
    "    \"invoice\": \"stores invoice data.\",\n",
    "    \"invoice_item\": \"stores invoice line items.\",\n",
    "    \"media_type\": \"stores media types such as MPEG audio file, ACC audio file, etc.\",\n",
    "    \"artist\": \"stores a list of artists.\",\n",
    "    \"album\": \"stores music albums.\",\n",
    "    \"track\": \"stores songs by track name, length, and genre.\",\n",
    "    \"playlist\": \"stores playlists data.\",\n",
    "    \"playlist_track\": \"stores the relationship between playlists and tracks.\"\n",
    "}"
   ]
  },
  {
   "cell_type": "code",
   "execution_count": 4,
   "metadata": {
    "colab": {
     "base_uri": "https://localhost:8080/"
    },
    "id": "IklEeNaTP6Y4",
    "outputId": "2928475f-f685-40c2-a6ce-29df81d1c1bf"
   },
   "outputs": [
    {
     "data": {
      "text/plain": [
       "<llama_index.core.utilities.sql_wrapper.SQLDatabase at 0x1d02a54f9e0>"
      ]
     },
     "execution_count": 4,
     "metadata": {},
     "output_type": "execute_result"
    }
   ],
   "source": [
    "from llama_index.core import SQLDatabase\n",
    "# tables = [\"customer\",\"artist\"]\n",
    "sql_database = SQLDatabase(engine, sample_rows_in_table_info=2)\n",
    "sql_database"
   ]
  },
  {
   "cell_type": "code",
   "execution_count": 5,
   "metadata": {
    "colab": {
     "base_uri": "https://localhost:8080/"
    },
    "id": "VaqVhL1HlzEf",
    "outputId": "78426bba-45ef-4bd6-abcf-e0901d221a74"
   },
   "outputs": [
    {
     "data": {
      "text/plain": [
       "['Album',\n",
       " 'MediaType',\n",
       " 'Customer',\n",
       " 'PlaylistTrack',\n",
       " 'Artist',\n",
       " 'Invoice',\n",
       " 'Genre',\n",
       " 'Track',\n",
       " 'Playlist',\n",
       " 'Employee',\n",
       " 'InvoiceLine']"
      ]
     },
     "execution_count": 5,
     "metadata": {},
     "output_type": "execute_result"
    }
   ],
   "source": [
    "list(sql_database._all_tables)"
   ]
  },
  {
   "cell_type": "code",
   "execution_count": 6,
   "metadata": {
    "id": "FFxFOyxoQRKj"
   },
   "outputs": [],
   "source": [
    "import os\n",
    "import openai\n",
    "os.environ[\"OPENAI_API_KEY\"] = \"<input key here>\"\n",
    "openai.api_key = os.environ[\"OPENAI_API_KEY\"]"
   ]
  },
  {
   "cell_type": "markdown",
   "metadata": {
    "id": "JttyItMycui0"
   },
   "source": [
    "https://gpt-index.readthedocs.io/en/latest/examples/callbacks/TokenCountingHandler.html"
   ]
  },
  {
   "cell_type": "code",
   "execution_count": 7,
   "metadata": {
    "id": "kVIxgmsszwfi"
   },
   "outputs": [],
   "source": [
    "import tiktoken\n",
    "from llama_index.core.callbacks import CallbackManager, TokenCountingHandler\n",
    "token_counter = TokenCountingHandler(\n",
    "    tokenizer=tiktoken.encoding_for_model(\"gpt-3.5-turbo\").encode\n",
    ")\n",
    "\n",
    "callback_manager = CallbackManager([token_counter])"
   ]
  },
  {
   "cell_type": "code",
   "execution_count": 8,
   "metadata": {
    "id": "l20LYCv2SF7N"
   },
   "outputs": [
    {
     "name": "stderr",
     "output_type": "stream",
     "text": [
      "C:\\Users\\dkmsf\\AppData\\Local\\Temp\\ipykernel_14956\\4046526135.py:5: DeprecationWarning: Call to deprecated class method from_defaults. (ServiceContext is deprecated, please use `llama_index.settings.Settings` instead.) -- Deprecated since version 0.10.0.\n",
      "  service_context = ServiceContext.from_defaults(\n"
     ]
    }
   ],
   "source": [
    "from llama_index.core import ServiceContext, PromptHelper\n",
    "from llama_index.llms.openai import OpenAI\n",
    "llm = OpenAI(temperature=0.1, model=\"gpt-3.5-turbo\")\n",
    "\n",
    "service_context = ServiceContext.from_defaults(\n",
    "  llm=llm,callback_manager=callback_manager\n",
    ")"
   ]
  },
  {
   "cell_type": "code",
   "execution_count": 9,
   "metadata": {
    "id": "q1Rzr7uMQnOA"
   },
   "outputs": [],
   "source": [
    "from llama_index.core.query_engine import NLSQLTableQueryEngine\n",
    "\n",
    "query_engine = NLSQLTableQueryEngine(\n",
    "    sql_database=sql_database,\n",
    "    service_context=service_context\n",
    ")"
   ]
  },
  {
   "cell_type": "code",
   "execution_count": 24,
   "metadata": {
    "colab": {
     "base_uri": "https://localhost:8080/"
    },
    "id": "nW7aMjT4aaSc",
    "outputId": "c21eff9b-de95-4d58-f6e1-b0ecd0ebf1ed"
   },
   "outputs": [],
   "source": [
    "query_str = \"name top 3 most sold albums from the store\"\n",
    "# query_str = \"can you provide information about costumer 22??\"\n",
    "response = query_engine.query(query_str)"
   ]
  },
  {
   "cell_type": "code",
   "execution_count": 25,
   "metadata": {
    "colab": {
     "base_uri": "https://localhost:8080/"
    },
    "id": "EcrUO1D6af7E",
    "outputId": "c15aba3b-afc7-49a5-9045-2ea7e48f3dd7"
   },
   "outputs": [
    {
     "name": "stdout",
     "output_type": "stream",
     "text": [
      "The top 3 most sold albums from the store are \"Minha Historia\" with 27 sales, \"Greatest Hits\" with 26 sales, and \"Unplugged\" with 25 sales.\n"
     ]
    }
   ],
   "source": [
    "print(response)"
   ]
  },
  {
   "cell_type": "code",
   "execution_count": 12,
   "metadata": {
    "colab": {
     "base_uri": "https://localhost:8080/"
    },
    "id": "Ovl2gD15079v",
    "outputId": "3566ab7b-4442-49d5-bced-3843ab134598"
   },
   "outputs": [
    {
     "name": "stdout",
     "output_type": "stream",
     "text": [
      "1012\n"
     ]
    }
   ],
   "source": [
    "print(token_counter.total_llm_token_count)"
   ]
  },
  {
   "cell_type": "code",
   "execution_count": 13,
   "metadata": {
    "id": "f_kEFjRbaQ42"
   },
   "outputs": [],
   "source": [
    "token_counter.reset_counts()"
   ]
  }
 ],
 "metadata": {
  "colab": {
   "authorship_tag": "ABX9TyPlxEAJuBIziMBf/yvMhjFO",
   "include_colab_link": true,
   "provenance": []
  },
  "kernelspec": {
   "display_name": "Python 3 (ipykernel)",
   "language": "python",
   "name": "python3"
  },
  "language_info": {
   "codemirror_mode": {
    "name": "ipython",
    "version": 3
   },
   "file_extension": ".py",
   "mimetype": "text/x-python",
   "name": "python",
   "nbconvert_exporter": "python",
   "pygments_lexer": "ipython3",
   "version": "3.12.1"
  }
 },
 "nbformat": 4,
 "nbformat_minor": 4
}
